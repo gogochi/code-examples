{
 "cells": [
  {
   "cell_type": "code",
   "execution_count": 16,
   "metadata": {},
   "outputs": [
    {
     "data": {
      "text/plain": [
       "{'address_components': [{'long_name': '100',\n",
       "   'short_name': '100',\n",
       "   'types': ['street_number']},\n",
       "  {'long_name': '文華路', 'short_name': '文華路', 'types': ['route']},\n",
       "  {'long_name': '西屯區',\n",
       "   'short_name': '西屯區',\n",
       "   'types': ['administrative_area_level_3', 'political']},\n",
       "  {'long_name': '台中市',\n",
       "   'short_name': '台中市',\n",
       "   'types': ['administrative_area_level_1', 'political']},\n",
       "  {'long_name': '台灣', 'short_name': 'TW', 'types': ['country', 'political']},\n",
       "  {'long_name': '407', 'short_name': '407', 'types': ['postal_code']}],\n",
       " 'formatted_address': '407台灣台中市西屯區文華路100號',\n",
       " 'geometry': {'location': {'lat': 24.1801318, 'lng': 120.6482956},\n",
       "  'location_type': 'ROOFTOP',\n",
       "  'viewport': {'northeast': {'lat': 24.1814807802915,\n",
       "    'lng': 120.6496445802915},\n",
       "   'southwest': {'lat': 24.17878281970849, 'lng': 120.6469466197085}}},\n",
       " 'place_id': 'ChIJp4qYpyMWaTQRWgPDQWwU3XM',\n",
       " 'types': ['establishment', 'point_of_interest', 'university']}"
      ]
     },
     "execution_count": 16,
     "metadata": {},
     "output_type": "execute_result"
    }
   ],
   "source": [
    "#地址轉gps\n",
    "import time\n",
    "import requests\n",
    "\n",
    "def geocode(address):\n",
    "    time.sleep(0.1)\n",
    "    url = 'https://maps.googleapis.com/maps/api/geocode/json?language=zh-TW&address={0}'\n",
    "    request = url.format(address)\n",
    "    response = requests.get(request)\n",
    "    data = response.json()\n",
    "    if 'results' in data and len(data['results']) > 0:\n",
    "        return data['results'][0]\n",
    "    \n",
    "geocode('逢甲大學')"
   ]
  },
  {
   "cell_type": "code",
   "execution_count": 17,
   "metadata": {},
   "outputs": [
    {
     "data": {
      "text/plain": [
       "{'lat': 24.1801318, 'lng': 120.6482956}"
      ]
     },
     "execution_count": 17,
     "metadata": {},
     "output_type": "execute_result"
    }
   ],
   "source": [
    "def parse_lat_lng(geocode_data):\n",
    "    if (not geocode_data is None) and ('address_components' in geocode_data):\n",
    "        if 'geometry' in geocode_data:\n",
    "                return geocode_data['geometry']['location']\n",
    "    return None  \n",
    "\n",
    "parse_lat_lng(geocode('逢甲大學'))"
   ]
  },
  {
   "cell_type": "code",
   "execution_count": 18,
   "metadata": {},
   "outputs": [
    {
     "data": {
      "text/plain": [
       "'407台灣台中市西屯區文華路100號'"
      ]
     },
     "execution_count": 18,
     "metadata": {},
     "output_type": "execute_result"
    }
   ],
   "source": [
    "def parse_address(geocode_data):\n",
    "    if (not geocode_data is None) and ('address_components' in geocode_data):\n",
    "        if 'formatted_address' in geocode_data:\n",
    "                return geocode_data['formatted_address']\n",
    "    return None\n",
    "\n",
    "parse_address(geocode('逢甲大學'))"
   ]
  },
  {
   "cell_type": "code",
   "execution_count": 19,
   "metadata": {},
   "outputs": [
    {
     "data": {
      "text/plain": [
       "{'address_components': [{'long_name': '107-1',\n",
       "   'short_name': '107-1',\n",
       "   'types': ['street_number']},\n",
       "  {'long_name': '文華路', 'short_name': '文華路', 'types': ['route']},\n",
       "  {'long_name': '西平里',\n",
       "   'short_name': '西平里',\n",
       "   'types': ['administrative_area_level_4', 'political']},\n",
       "  {'long_name': '西屯區',\n",
       "   'short_name': '西屯區',\n",
       "   'types': ['administrative_area_level_3', 'political']},\n",
       "  {'long_name': '台中市',\n",
       "   'short_name': '台中市',\n",
       "   'types': ['administrative_area_level_1', 'political']},\n",
       "  {'long_name': '台灣', 'short_name': 'TW', 'types': ['country', 'political']},\n",
       "  {'long_name': '407', 'short_name': '407', 'types': ['postal_code']}],\n",
       " 'formatted_address': '407台灣台中市西屯區文華路107-1號',\n",
       " 'geometry': {'location': {'lat': 24.179347, 'lng': 120.64641},\n",
       "  'location_type': 'ROOFTOP',\n",
       "  'viewport': {'northeast': {'lat': 24.1806959802915,\n",
       "    'lng': 120.6477589802915},\n",
       "   'southwest': {'lat': 24.1779980197085, 'lng': 120.6450610197085}}},\n",
       " 'place_id': 'ChIJofb_BCMWaTQRkQZpHY8M2wk',\n",
       " 'types': ['street_address']}"
      ]
     },
     "execution_count": 19,
     "metadata": {},
     "output_type": "execute_result"
    }
   ],
   "source": [
    "#gps轉地址\n",
    "import time\n",
    "import requests\n",
    "\n",
    "def reverse_geocode(latlng):\n",
    "    time.sleep(0.1)\n",
    "    url = 'https://maps.googleapis.com/maps/api/geocode/json?language=zh-TW&latlng={0}'\n",
    "    request = url.format(latlng)\n",
    "    response = requests.get(request)\n",
    "    data = response.json()\n",
    "    if 'results' in data and len(data['results']) > 0:\n",
    "        return data['results'][0]\n",
    "\n",
    "reverse_geocode('24.1792349,120.647001')"
   ]
  },
  {
   "cell_type": "code",
   "execution_count": 21,
   "metadata": {},
   "outputs": [
    {
     "data": {
      "text/plain": [
       "'407台灣台中市西屯區文華路107-1號'"
      ]
     },
     "execution_count": 21,
     "metadata": {},
     "output_type": "execute_result"
    }
   ],
   "source": [
    "parse_address(reverse_geocode('24.1792349,120.647001'))"
   ]
  }
 ],
 "metadata": {
  "kernelspec": {
   "display_name": "Python 3",
   "language": "python",
   "name": "python3"
  },
  "language_info": {
   "codemirror_mode": {
    "name": "ipython",
    "version": 3
   },
   "file_extension": ".py",
   "mimetype": "text/x-python",
   "name": "python",
   "nbconvert_exporter": "python",
   "pygments_lexer": "ipython3",
   "version": "3.6.5"
  }
 },
 "nbformat": 4,
 "nbformat_minor": 2
}
